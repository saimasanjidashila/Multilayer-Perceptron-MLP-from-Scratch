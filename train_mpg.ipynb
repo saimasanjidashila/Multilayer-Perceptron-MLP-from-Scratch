{
  "nbformat": 4,
  "nbformat_minor": 0,
  "metadata": {
    "colab": {
      "provenance": []
    },
    "kernelspec": {
      "name": "python3",
      "display_name": "Python 3"
    },
    "language_info": {
      "name": "python"
    }
  },
  "cells": [
    {
      "cell_type": "code",
      "source": [
        "import os\n",
        "print(os.listdir())  # Check if mlp.py is in the current directory\n"
      ],
      "metadata": {
        "colab": {
          "base_uri": "https://localhost:8080/"
        },
        "id": "iHzmvhrmBEce",
        "outputId": "d5d48cde-3f86-4290-8943-d29422289848"
      },
      "execution_count": null,
      "outputs": [
        {
          "output_type": "stream",
          "name": "stdout",
          "text": [
            "['.config', '.ipynb_checkpoints', 'mlp.py', '__pycache__', 'sample_data']\n"
          ]
        }
      ]
    },
    {
      "cell_type": "code",
      "source": [
        "import math\n",
        "!pip install ucimlrepo\n",
        "!pip install scikit-learn"
      ],
      "metadata": {
        "colab": {
          "base_uri": "https://localhost:8080/"
        },
        "id": "HjIVCt12BNV_",
        "outputId": "0b67880c-98d3-4dfb-db2a-9dd8939c0d34"
      },
      "execution_count": null,
      "outputs": [
        {
          "output_type": "stream",
          "name": "stdout",
          "text": [
            "Collecting ucimlrepo\n",
            "  Downloading ucimlrepo-0.0.7-py3-none-any.whl.metadata (5.5 kB)\n",
            "Requirement already satisfied: pandas>=1.0.0 in /usr/local/lib/python3.11/dist-packages (from ucimlrepo) (2.2.2)\n",
            "Requirement already satisfied: certifi>=2020.12.5 in /usr/local/lib/python3.11/dist-packages (from ucimlrepo) (2025.1.31)\n",
            "Requirement already satisfied: numpy>=1.23.2 in /usr/local/lib/python3.11/dist-packages (from pandas>=1.0.0->ucimlrepo) (1.26.4)\n",
            "Requirement already satisfied: python-dateutil>=2.8.2 in /usr/local/lib/python3.11/dist-packages (from pandas>=1.0.0->ucimlrepo) (2.8.2)\n",
            "Requirement already satisfied: pytz>=2020.1 in /usr/local/lib/python3.11/dist-packages (from pandas>=1.0.0->ucimlrepo) (2025.1)\n",
            "Requirement already satisfied: tzdata>=2022.7 in /usr/local/lib/python3.11/dist-packages (from pandas>=1.0.0->ucimlrepo) (2025.1)\n",
            "Requirement already satisfied: six>=1.5 in /usr/local/lib/python3.11/dist-packages (from python-dateutil>=2.8.2->pandas>=1.0.0->ucimlrepo) (1.17.0)\n",
            "Downloading ucimlrepo-0.0.7-py3-none-any.whl (8.0 kB)\n",
            "Installing collected packages: ucimlrepo\n",
            "Successfully installed ucimlrepo-0.0.7\n",
            "Requirement already satisfied: scikit-learn in /usr/local/lib/python3.11/dist-packages (1.6.1)\n",
            "Requirement already satisfied: numpy>=1.19.5 in /usr/local/lib/python3.11/dist-packages (from scikit-learn) (1.26.4)\n",
            "Requirement already satisfied: scipy>=1.6.0 in /usr/local/lib/python3.11/dist-packages (from scikit-learn) (1.13.1)\n",
            "Requirement already satisfied: joblib>=1.2.0 in /usr/local/lib/python3.11/dist-packages (from scikit-learn) (1.4.2)\n",
            "Requirement already satisfied: threadpoolctl>=3.1.0 in /usr/local/lib/python3.11/dist-packages (from scikit-learn) (3.5.0)\n"
          ]
        }
      ]
    },
    {
      "cell_type": "code",
      "source": [
        "import numpy as np\n",
        "import matplotlib.pyplot as plt\n",
        "from ucimlrepo import fetch_ucirepo\n",
        "import pandas as pd\n",
        "from mlp_autompg import LossFunction, CrossEntropy, ActivationFunction, batch_generator\n",
        "from mlp_autompg import MultilayerPerceptron, Layer, Relu, Linear, SquaredError, Tanh, Sigmoid, Softmax, Mish, Softplus\n",
        "from sklearn.model_selection import train_test_split\n"
      ],
      "metadata": {
        "id": "BPoUK_ho-Por"
      },
      "execution_count": 12,
      "outputs": []
    },
    {
      "cell_type": "code",
      "source": [
        "# fetch dataset\n",
        "auto_mpg = fetch_ucirepo(id=9)\n",
        "\n",
        "# data (as pandas dataframes)\n",
        "X = auto_mpg.data.features\n",
        "y = auto_mpg.data.targets\n",
        "\n",
        "# Combine features and target into one DataFrame for easy filtering\n",
        "data = pd.concat([X, y], axis=1)\n",
        "\n",
        "# Drop rows where the target variable is NaN\n",
        "cleaned_data = data.dropna()\n",
        "\n",
        "# Split the data back into features (X) and target (y)\n",
        "X = cleaned_data.iloc[:, :-1]\n",
        "y = cleaned_data.iloc[:, -1]\n",
        "\n",
        "# Display the number of rows removed\n",
        "rows_removed = len(data) - len(cleaned_data)\n",
        "print(f\"Rows removed: {rows_removed}\")\n",
        "\n",
        "print(\"Head of the dataset:\")\n",
        "print(data.head())\n",
        "\n",
        "print(\"\\nTail of the dataset:\")\n",
        "print(data.tail())"
      ],
      "metadata": {
        "colab": {
          "base_uri": "https://localhost:8080/"
        },
        "id": "Dw7GJWyDB1sM",
        "outputId": "e7938bc2-5a4b-4deb-f362-896578cdf212"
      },
      "execution_count": 13,
      "outputs": [
        {
          "output_type": "stream",
          "name": "stdout",
          "text": [
            "Rows removed: 6\n",
            "Head of the dataset:\n",
            "   displacement  cylinders  horsepower  weight  acceleration  model_year  \\\n",
            "0         307.0          8       130.0    3504          12.0          70   \n",
            "1         350.0          8       165.0    3693          11.5          70   \n",
            "2         318.0          8       150.0    3436          11.0          70   \n",
            "3         304.0          8       150.0    3433          12.0          70   \n",
            "4         302.0          8       140.0    3449          10.5          70   \n",
            "\n",
            "   origin   mpg  \n",
            "0       1  18.0  \n",
            "1       1  15.0  \n",
            "2       1  18.0  \n",
            "3       1  16.0  \n",
            "4       1  17.0  \n",
            "\n",
            "Tail of the dataset:\n",
            "     displacement  cylinders  horsepower  weight  acceleration  model_year  \\\n",
            "393         140.0          4        86.0    2790          15.6          82   \n",
            "394          97.0          4        52.0    2130          24.6          82   \n",
            "395         135.0          4        84.0    2295          11.6          82   \n",
            "396         120.0          4        79.0    2625          18.6          82   \n",
            "397         119.0          4        82.0    2720          19.4          82   \n",
            "\n",
            "     origin   mpg  \n",
            "393       1  27.0  \n",
            "394       2  44.0  \n",
            "395       1  32.0  \n",
            "396       1  28.0  \n",
            "397       1  31.0  \n"
          ]
        }
      ]
    },
    {
      "cell_type": "code",
      "source": [
        "# Do a 70/30 split (e.g., 70% train, 30% other)\n",
        "X_train, X_leftover, y_train, y_leftover = train_test_split(\n",
        "    X, y,\n",
        "    test_size=0.3,\n",
        "    random_state=42,    # for reproducibility\n",
        "    shuffle=True,       # whether to shuffle the data before splitting\n",
        ")\n",
        "\n",
        "# Split the remaining 30% into validation/testing (15%/15%)\n",
        "X_val, X_test, y_val, y_test = train_test_split(\n",
        "    X_leftover, y_leftover,\n",
        "    test_size=0.5,\n",
        "    random_state=42,\n",
        "    shuffle=True,\n",
        ")\n",
        "\n",
        "# Compute statistics for X (features)\n",
        "X_mean = X_train.mean(axis=0)  # Mean of each feature\n",
        "X_std = X_train.std(axis=0)    # Standard deviation of each feature\n",
        "\n",
        "# Standardize X\n",
        "X_train = (X_train - X_mean) / X_std\n",
        "X_val = (X_val - X_mean) / X_std\n",
        "X_test = (X_test - X_mean) / X_std\n",
        "\n",
        "# Compute statistics for y (targets)\n",
        "y_mean = y_train.mean()  # Mean of target\n",
        "y_std = y_train.std()    # Standard deviation of target\n",
        "\n",
        "# Standardize y\n",
        "y_train = (y_train - y_mean) / y_std\n",
        "y_val = (y_val - y_mean) / y_std\n",
        "y_test = (y_test - y_mean) / y_std\n",
        "\n",
        "X_train.shape\n",
        "\n",
        "print(f\"Samples in Training:   {len(X_train)}\")\n",
        "print(f\"Samples in Validation: {len(X_val)}\")\n",
        "print(f\"Samples in Testing:    {len(X_test)}\")\n"
      ],
      "metadata": {
        "colab": {
          "base_uri": "https://localhost:8080/"
        },
        "id": "6jb9KTY7-fzx",
        "outputId": "0452e9a6-6947-4d36-afe2-c4f87b0c5468"
      },
      "execution_count": 14,
      "outputs": [
        {
          "output_type": "stream",
          "name": "stdout",
          "text": [
            "Samples in Training:   274\n",
            "Samples in Validation: 59\n",
            "Samples in Testing:    59\n"
          ]
        }
      ]
    },
    {
      "cell_type": "code",
      "source": [
        "# Convert Pandas DataFrame to NumPy array before training\n",
        "X_train = X_train.to_numpy()\n",
        "y_train = y_train.to_numpy()\n",
        "X_val = X_val.to_numpy()\n",
        "y_val = y_val.to_numpy()\n",
        "X_test = X_test.to_numpy()\n",
        "y_test = y_test.to_numpy()\n"
      ],
      "metadata": {
        "id": "tnicjG8k-jZc"
      },
      "execution_count": 15,
      "outputs": []
    },
    {
      "cell_type": "code",
      "source": [
        "# Define MLP Architecture\n",
        "mlp = MultilayerPerceptron([\n",
        "    Layer(fan_in=X_train.shape[1], fan_out=256, activation_function=Relu(), dropout_rate=0.1),\n",
        "    Layer(fan_in=256, fan_out=128, activation_function=Relu(), dropout_rate=0.1),\n",
        "    Layer(fan_in=128, fan_out=64, activation_function=Relu(), dropout_rate=0.05),\n",
        "    Layer(fan_in=64, fan_out=32, activation_function=Relu(), dropout_rate=0.05),\n",
        "    Layer(fan_in=32, fan_out=16, activation_function=Relu(), dropout_rate=0.02),\n",
        "    Layer(fan_in=16, fan_out=1, activation_function=Linear())\n",
        "])\n",
        "# Train the Model\n",
        "loss_function = SquaredError()\n",
        "train_losses, val_losses = mlp.train(X_train, y_train, X_val, y_val,\n",
        "                                         loss_function, learning_rate=0.0005,\n",
        "                                         batch_size=64, epochs=50, rmsprop=True)\n"
      ],
      "metadata": {
        "colab": {
          "base_uri": "https://localhost:8080/"
        },
        "id": "-FCAO95j-lnD",
        "outputId": "39ddd57a-ab4d-4f3d-855f-ae4884726794"
      },
      "execution_count": 23,
      "outputs": [
        {
          "output_type": "stream",
          "name": "stdout",
          "text": [
            "Epoch 1/50 - Training Loss: 1.0532 - Validation Loss: 0.9279\n",
            "Epoch 2/50 - Training Loss: 1.2221 - Validation Loss: 1.1176\n",
            "Epoch 3/50 - Training Loss: 1.3647 - Validation Loss: 1.1885\n",
            "Epoch 4/50 - Training Loss: 1.6289 - Validation Loss: 1.5860\n",
            "Epoch 5/50 - Training Loss: 1.5737 - Validation Loss: 1.4299\n",
            "Epoch 6/50 - Training Loss: 1.9330 - Validation Loss: 1.7297\n",
            "Epoch 7/50 - Training Loss: 1.8185 - Validation Loss: 1.6267\n",
            "Epoch 8/50 - Training Loss: 1.8682 - Validation Loss: 1.7475\n",
            "Epoch 9/50 - Training Loss: 1.7922 - Validation Loss: 1.6378\n",
            "Epoch 10/50 - Training Loss: 1.9881 - Validation Loss: 1.7616\n",
            "Epoch 11/50 - Training Loss: 1.7649 - Validation Loss: 1.5966\n",
            "Epoch 12/50 - Training Loss: 1.8326 - Validation Loss: 1.5586\n",
            "Epoch 13/50 - Training Loss: 1.8314 - Validation Loss: 1.6975\n",
            "Epoch 14/50 - Training Loss: 1.7676 - Validation Loss: 1.4835\n",
            "Epoch 15/50 - Training Loss: 1.9763 - Validation Loss: 1.8060\n",
            "Epoch 16/50 - Training Loss: 1.8773 - Validation Loss: 1.6832\n",
            "Epoch 17/50 - Training Loss: 1.7393 - Validation Loss: 1.4713\n",
            "Epoch 18/50 - Training Loss: 1.9321 - Validation Loss: 1.6939\n",
            "Epoch 19/50 - Training Loss: 1.7538 - Validation Loss: 1.5537\n",
            "Epoch 20/50 - Training Loss: 1.8007 - Validation Loss: 1.4840\n",
            "Epoch 21/50 - Training Loss: 1.8726 - Validation Loss: 1.6068\n",
            "Epoch 22/50 - Training Loss: 1.9364 - Validation Loss: 1.7466\n",
            "Epoch 23/50 - Training Loss: 2.0112 - Validation Loss: 1.8863\n",
            "Epoch 24/50 - Training Loss: 1.7934 - Validation Loss: 1.5125\n",
            "Epoch 25/50 - Training Loss: 2.0159 - Validation Loss: 1.9233\n",
            "Epoch 26/50 - Training Loss: 1.8966 - Validation Loss: 1.7226\n",
            "Epoch 27/50 - Training Loss: 1.7905 - Validation Loss: 1.6698\n",
            "Epoch 28/50 - Training Loss: 1.8387 - Validation Loss: 1.6913\n",
            "Epoch 29/50 - Training Loss: 2.0829 - Validation Loss: 1.8434\n",
            "Epoch 30/50 - Training Loss: 2.1641 - Validation Loss: 2.1470\n",
            "Epoch 31/50 - Training Loss: 1.8378 - Validation Loss: 1.6131\n",
            "Epoch 32/50 - Training Loss: 1.7843 - Validation Loss: 1.6226\n",
            "Epoch 33/50 - Training Loss: 1.8928 - Validation Loss: 1.7175\n",
            "Epoch 34/50 - Training Loss: 1.8431 - Validation Loss: 1.7616\n",
            "Epoch 35/50 - Training Loss: 1.9685 - Validation Loss: 1.8142\n",
            "Epoch 36/50 - Training Loss: 1.8977 - Validation Loss: 1.8797\n",
            "Epoch 37/50 - Training Loss: 1.8236 - Validation Loss: 1.6030\n",
            "Epoch 38/50 - Training Loss: 1.9028 - Validation Loss: 1.8046\n",
            "Epoch 39/50 - Training Loss: 1.9438 - Validation Loss: 1.8784\n",
            "Epoch 40/50 - Training Loss: 1.9781 - Validation Loss: 1.8651\n",
            "Epoch 41/50 - Training Loss: 1.8747 - Validation Loss: 1.7807\n",
            "Epoch 42/50 - Training Loss: 1.9599 - Validation Loss: 1.7168\n",
            "Epoch 43/50 - Training Loss: 1.8471 - Validation Loss: 1.6841\n",
            "Epoch 44/50 - Training Loss: 2.0713 - Validation Loss: 1.8528\n",
            "Epoch 45/50 - Training Loss: 1.8370 - Validation Loss: 1.7397\n",
            "Epoch 46/50 - Training Loss: 1.9411 - Validation Loss: 1.5798\n",
            "Epoch 47/50 - Training Loss: 2.1246 - Validation Loss: 2.0530\n",
            "Epoch 48/50 - Training Loss: 1.7438 - Validation Loss: 1.6461\n",
            "Epoch 49/50 - Training Loss: 1.7391 - Validation Loss: 1.5549\n",
            "Epoch 50/50 - Training Loss: 1.9145 - Validation Loss: 1.8245\n"
          ]
        }
      ]
    },
    {
      "cell_type": "code",
      "source": [
        "# Evaluate Model on Test Data\n",
        "y_pred = mlp.forward(X_test)\n",
        "test_loss = loss_func.loss(y_test, y_pred)\n",
        "print(f\"\\n🔹 Total Test Loss: {test_loss:.4f}\\n\")\n",
        "\n",
        "# Print True vs Predicted MPG for First 10 Samples\n",
        "comparison = np.hstack((y_test.reshape(-1,1), y_pred.reshape(-1,1)))\n",
        "print(\"\\n🔹 True MPG vs Predicted MPG:\\n\")\n",
        "print(\"True MPG | Predicted MPG\")\n",
        "print(\"-\" * 30)\n",
        "for i in range(10):\n",
        "    print(f\"{comparison[i, 0]:.2f} | {comparison[i, 1]:.2f}\")\n",
        "\n",
        "# Plot Training vs Validation Loss\n",
        "plt.plot(train_losses, label=\"Training Loss\")\n",
        "plt.plot(val_losses, label=\"Validation Loss\")\n",
        "plt.xlabel(\"Epochs\")\n",
        "plt.ylabel(\"Loss\")\n",
        "plt.legend()\n",
        "plt.title(\"Training vs Validation Loss (Vehicle MPG)\")\n",
        "plt.show()"
      ],
      "metadata": {
        "colab": {
          "base_uri": "https://localhost:8080/",
          "height": 793
        },
        "id": "BgJhDmuz-oGy",
        "outputId": "14b5a9a8-1cd1-4760-bfff-072ece413fd2"
      },
      "execution_count": 24,
      "outputs": [
        {
          "output_type": "stream",
          "name": "stdout",
          "text": [
            "\n",
            "🔹 Total Test Loss: 1.8780\n",
            "\n",
            "\n",
            "🔹 True MPG vs Predicted MPG:\n",
            "\n",
            "True MPG | Predicted MPG\n",
            "------------------------------\n",
            "-0.45 | -0.54\n",
            "-0.95 | -0.87\n",
            "0.42 | 0.32\n",
            "-1.33 | -1.64\n",
            "-0.33 | -0.20\n",
            "-0.53 | -0.96\n",
            "-1.08 | -1.62\n",
            "-1.08 | -1.80\n",
            "-0.17 | 0.02\n",
            "-0.70 | 0.24\n"
          ]
        },
        {
          "output_type": "display_data",
          "data": {
            "text/plain": [
              "<Figure size 640x480 with 1 Axes>"
            ],
            "image/png": "[encoded data removed]"
          },
          "metadata": {}
        }
      ]
    },
    {
      "cell_type": "code",
      "source": [
        "from sklearn.neural_network import MLPRegressor\n",
        "from sklearn.metrics import mean_squared_error\n",
        "import numpy as np\n",
        "\n",
        "# Initialize the MLPRegressor\n",
        "mlp_regressor = MLPRegressor(hidden_layer_sizes=(256, 128, 64, 32, 16),  # Hidden layers\n",
        "                             activation='relu',   # ReLU activation function\n",
        "                             solver='adam',       # Adam optimizer\n",
        "                             alpha=0.0001,        # L2 regularization (prevents overfitting)\n",
        "                             batch_size=128,      # Mini-batch size\n",
        "                             learning_rate_init=0.0003,  # Initial learning rate\n",
        "                             max_iter=500,        # Maximum training iterations\n",
        "                             random_state=42,     # For reproducibility\n",
        "                             early_stopping=True, # Stops training if validation loss increases\n",
        "                             validation_fraction=0.2)  # 20% of training data for validation\n",
        "\n",
        "# Train the model\n",
        "mlp_regressor.fit(X_train, y_train)\n",
        "\n",
        "# Predict on test data\n",
        "y_pred = mlp_regressor.predict(X_test)\n",
        "\n",
        "# Compute Test Loss (MSE)\n",
        "test_loss = mean_squared_error(y_test, y_pred)\n",
        "print(f\"\\n🔹 Total Test Loss (MSE): {test_loss:.4f}\\n\")\n",
        "\n",
        "# Display True vs Predicted Values for First 10 Samples\n",
        "print(\"\\n🔹 True MPG vs Predicted MPG:\\n\")\n",
        "print(\"True MPG | Predicted MPG\")\n",
        "print(\"-\" * 30)\n",
        "for true, pred in zip(y_test[:10], y_pred[:10]):\n",
        "    print(f\"{true:.2f}     | {pred:.2f}\")\n",
        "\n"
      ],
      "metadata": {
        "id": "79DxDlvjMPR2",
        "colab": {
          "base_uri": "https://localhost:8080/"
        },
        "outputId": "3f61b5ff-52c1-424e-c912-a4e88eac8b1a"
      },
      "execution_count": null,
      "outputs": [
        {
          "output_type": "stream",
          "name": "stdout",
          "text": [
            "\n",
            "🔹 Total Test Loss (MSE): 0.1045\n",
            "\n",
            "\n",
            "🔹 True MPG vs Predicted MPG:\n",
            "\n",
            "True MPG | Predicted MPG\n",
            "------------------------------\n",
            "-0.45     | -0.74\n",
            "-0.95     | -0.78\n",
            "0.42     | 0.45\n",
            "-1.33     | -1.44\n",
            "-0.33     | -0.40\n",
            "-0.53     | -0.81\n",
            "-1.08     | -1.39\n",
            "-1.08     | -1.23\n",
            "-0.17     | 0.10\n",
            "-0.70     | 0.13\n"
          ]
        }
      ]
    },
    {
      "cell_type": "code",
      "source": [],
      "metadata": {
        "id": "VHlrFuN5nvP6"
      },
      "execution_count": null,
      "outputs": []
    }
  ]
}